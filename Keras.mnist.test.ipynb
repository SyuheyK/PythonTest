{
 "cells": [
  {
   "cell_type": "code",
   "execution_count": 18,
   "metadata": {},
   "outputs": [],
   "source": [
    "from tensorflow.python.keras.datasets import mnist\n",
    "(x_train, y_train), (x_test, y_test) = mnist.load_data()"
   ]
  },
  {
   "cell_type": "code",
   "execution_count": 19,
   "metadata": {},
   "outputs": [
    {
     "name": "stdout",
     "output_type": "stream",
     "text": [
      "x_train.shape: (60000, 28, 28)\n",
      "y_train.shape: (60000,)\n",
      "x_test.shape: (10000, 28, 28)\n",
      "y_test.shape: (10000,)\n"
     ]
    }
   ],
   "source": [
    "print(\"x_train.shape:\",x_train.shape)\n",
    "print(\"y_train.shape:\",y_train.shape)\n",
    "print(\"x_test.shape:\",x_test.shape)\n",
    "print(\"y_test.shape:\",y_test.shape)"
   ]
  },
  {
   "cell_type": "code",
   "execution_count": 20,
   "metadata": {},
   "outputs": [],
   "source": [
    "x_train = x_train.reshape(60000, 784)\n",
    "x_train = x_train / 255\n",
    "x_test = x_test.reshape(10000, 784)\n",
    "x_test = x_test / 255"
   ]
  },
  {
   "cell_type": "code",
   "execution_count": 21,
   "metadata": {},
   "outputs": [],
   "source": [
    "from tensorflow.python.keras.utils import to_categorical\n",
    "\n",
    "y_train = to_categorical(y_train, 10)\n",
    "y_test = to_categorical(y_test, 10)"
   ]
  },
  {
   "cell_type": "code",
   "execution_count": 22,
   "metadata": {},
   "outputs": [],
   "source": [
    "from tensorflow.python.keras.models import Sequential\n",
    "model = Sequential()\n",
    "\n",
    "# 入力層→中間層\n",
    "from tensorflow.python.keras.layers import Dense\n",
    "model.add(\n",
    "    Dense(\n",
    "        units=64,\n",
    "        input_shape=(784,),\n",
    "        activation='relu'\n",
    "    )\n",
    ")\n",
    "\n",
    "# 中間層→出力層\n",
    "model.add(\n",
    "    Dense(\n",
    "        units=10,\n",
    "        activation='softmax'\n",
    "    )\n",
    ")"
   ]
  },
  {
   "cell_type": "code",
   "execution_count": 23,
   "metadata": {},
   "outputs": [
    {
     "name": "stdout",
     "output_type": "stream",
     "text": [
      "Train on 48000 samples, validate on 12000 samples\n",
      "Epoch 1/20\n",
      "48000/48000 [==============================] - 3s - loss: 0.3410 - acc: 0.9041 - val_loss: 0.1869 - val_acc: 0.9470\n",
      "Epoch 2/20\n",
      "48000/48000 [==============================] - 3s - loss: 0.1593 - acc: 0.9541 - val_loss: 0.1315 - val_acc: 0.9620\n",
      "Epoch 3/20\n",
      "48000/48000 [==============================] - 3s - loss: 0.1147 - acc: 0.9665 - val_loss: 0.1136 - val_acc: 0.9663\n",
      "Epoch 4/20\n",
      "48000/48000 [==============================] - 3s - loss: 0.0901 - acc: 0.9737 - val_loss: 0.1063 - val_acc: 0.9691\n",
      "Epoch 5/20\n",
      "48000/48000 [==============================] - 3s - loss: 0.0750 - acc: 0.9780 - val_loss: 0.1022 - val_acc: 0.9708\n",
      "Epoch 6/20\n",
      "48000/48000 [==============================] - 3s - loss: 0.0620 - acc: 0.9822 - val_loss: 0.0961 - val_acc: 0.9717\n",
      "Epoch 7/20\n",
      "48000/48000 [==============================] - 3s - loss: 0.0521 - acc: 0.9848 - val_loss: 0.1038 - val_acc: 0.9692\n",
      "Epoch 8/20\n",
      "48000/48000 [==============================] - 3s - loss: 0.0433 - acc: 0.9870 - val_loss: 0.0982 - val_acc: 0.9705\n",
      "Epoch 9/20\n",
      "48000/48000 [==============================] - 3s - loss: 0.0387 - acc: 0.9882 - val_loss: 0.0972 - val_acc: 0.9729\n",
      "Epoch 10/20\n",
      "48000/48000 [==============================] - 3s - loss: 0.0333 - acc: 0.9901 - val_loss: 0.1120 - val_acc: 0.9672\n",
      "Epoch 11/20\n",
      "48000/48000 [==============================] - 4s - loss: 0.0278 - acc: 0.9916 - val_loss: 0.1013 - val_acc: 0.9707\n",
      "Epoch 12/20\n",
      "48000/48000 [==============================] - 3s - loss: 0.0236 - acc: 0.9926 - val_loss: 0.1066 - val_acc: 0.9718\n",
      "Epoch 13/20\n",
      "48000/48000 [==============================] - 3s - loss: 0.0212 - acc: 0.9939 - val_loss: 0.1119 - val_acc: 0.9700\n",
      "Epoch 14/20\n",
      "48000/48000 [==============================] - 3s - loss: 0.0178 - acc: 0.9950 - val_loss: 0.1131 - val_acc: 0.9718\n",
      "Epoch 15/20\n",
      "48000/48000 [==============================] - 3s - loss: 0.0174 - acc: 0.9949 - val_loss: 0.1114 - val_acc: 0.9724\n",
      "Epoch 16/20\n",
      "48000/48000 [==============================] - 3s - loss: 0.0141 - acc: 0.9960 - val_loss: 0.1136 - val_acc: 0.9725\n",
      "Epoch 17/20\n",
      "48000/48000 [==============================] - 3s - loss: 0.0123 - acc: 0.9968 - val_loss: 0.1254 - val_acc: 0.9700\n",
      "Epoch 18/20\n",
      "48000/48000 [==============================] - 4s - loss: 0.0113 - acc: 0.9969 - val_loss: 0.1152 - val_acc: 0.9739\n",
      "Epoch 19/20\n",
      "48000/48000 [==============================] - 3s - loss: 0.0095 - acc: 0.9974 - val_loss: 0.1262 - val_acc: 0.9707\n",
      "Epoch 20/20\n",
      "48000/48000 [==============================] - 3s - loss: 0.0094 - acc: 0.9973 - val_loss: 0.1269 - val_acc: 0.9708\n"
     ]
    }
   ],
   "source": [
    "from tensorflow.python.keras.callbacks import TensorBoard\n",
    "model.compile(\n",
    "    optimizer='adam',\n",
    "    loss='categorical_crossentropy',\n",
    "    metrics=['accuracy']\n",
    ")\n",
    "tsb=TensorBoard(log_dir='./logs')\n",
    "history_adam=model.fit(\n",
    "    x_train,\n",
    "    y_train,\n",
    "    batch_size=32,\n",
    "    epochs=20,\n",
    "    validation_split=0.2,\n",
    "    callbacks=[tsb]\n",
    ")"
   ]
  },
  {
   "cell_type": "code",
   "execution_count": null,
   "metadata": {},
   "outputs": [],
   "source": []
  }
 ],
 "metadata": {
  "kernelspec": {
   "display_name": "Python 3",
   "language": "python",
   "name": "python3"
  },
  "language_info": {
   "codemirror_mode": {
    "name": "ipython",
    "version": 3
   },
   "file_extension": ".py",
   "mimetype": "text/x-python",
   "name": "python",
   "nbconvert_exporter": "python",
   "pygments_lexer": "ipython3",
   "version": "3.6.0"
  }
 },
 "nbformat": 4,
 "nbformat_minor": 2
}
