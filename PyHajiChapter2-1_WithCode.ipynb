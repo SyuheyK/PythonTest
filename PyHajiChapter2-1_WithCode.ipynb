{
 "cells": [
  {
   "cell_type": "markdown",
   "metadata": {},
   "source": [
    "# 2.1　クラス分類と回帰\n",
    "- 2クラス分類は、答えがイエス/ノーになる問いに答えるようなもの\n",
    "- 回帰タスクの目的は連続値の予測\n",
    "\n",
    "# 2.2 汎化、過剰適合、適合不足\n",
    "- モデルが未見のデータに対して正確に予想ができるなら、訓練セットを用いてテストセットに対して汎化（generalize）できているという\n",
    "- 持っている情報の量に比べて過度に複雑なモデルを作ってしまうことを過剰適合（overfitting）という\n",
    "- に単純すぎるモデルを選択してしまうことを適合不足（underfitting）という\n",
    "- モデルが複雑になることを許せば許すほど、訓練データに対する予測精度は向上する。しかし、モデルが複雑になりすぎると、訓練セットの個々のデータポイントに重きを置きすぎるようになり、新しいデータに対してうまく汎化できなくなる。このどこかに、最良の汎化性能を示すスイートスポットがある。それが我々の求めるモデル\n",
    "- アルゴリズムが新しいデータに対してうまく適用できるかどうかを知るにはテストセットを評価するしかない。\n",
    "## 2.2.1　モデルの複雑さとデータセットの大きさ\n",
    "- データセットに含まれるデータポイントがバリエーションに富んでいれば、過剰適合を起こすことなく、より複雑なモデルを利用できる。\n",
    "- 通常は、データポイントが増えればデータのバリエーションも増えるので、データセットが大きくなれば、より複雑なモデルが利用できることになる。- - 同じデータポイントを複製したり、似たようなデータを集めるのではだめ\n",
    "\n",
    "# 2.3 教師あり機械学習アルゴリズム\n",
    "- 教師あり学習タスクにおいては、より多くのデータを用い、適度に複雑なモデルを用いると、驚くほどうまくいくことがある。\n",
    "- 実問題においては、取得するデータの量を決められる場合もあり、モデルを弄り回すよりもデータ量を増やしたほうがよい場合も多い。\n",
    "\n",
    "## 2.3.1　サンプルデータセット\n",
    "以下の4つのデータセットを使う．\n",
    "\n",
    "| |仮想データ|実データ|\n",
    "|:--:|:--:|:--:|\n",
    "|クラス分類用|forgeデータセット|cancerデータセット|\n",
    "|回帰問題用|waveデータセット|boston_housingデータセット|\n",
    "\n",
    "低次元の仮想データを使うのは可視化が簡単だから．\n",
    "仮想データに対する直観が高次元データにも適用可能とは限らないので，実データも使ってみる．"
   ]
  },
  {
   "cell_type": "code",
   "execution_count": 21,
   "metadata": {},
   "outputs": [],
   "source": [
    "\"\"\"\n",
    "仮想データ作成用関数\n",
    "  mglearn.datasets.make_forge() \n",
    "  mglearn.datasets.make_() \n",
    "\"\"\"\n",
    "import numbers\n",
    "import numpy as np\n",
    "from sklearn.utils import check_array, check_random_state\n",
    "from sklearn.utils import shuffle as shuffle_\n",
    "\n",
    "def make_forge():\n",
    "    # a carefully hand-designed dataset lol\n",
    "    #X, y = make_blobs(centers=2, random_state=4, n_samples=30)\n",
    "    random_state=4\n",
    "    n_samples=30\n",
    "    n_features=2\n",
    "    centers=2\n",
    "    generator = check_random_state(random_state)\n",
    "    centers = generator.uniform(-10.0, 10.0, size=(centers, n_features))\n",
    "    X = []\n",
    "    y = []\n",
    "    n_centers = centers.shape[0]\n",
    "    \n",
    "    n_samples_per_center = [int(n_samples // n_centers)] * n_centers\n",
    "    cluster_std = np.ones(len(centers))\n",
    "    for i in range(n_samples % n_centers):\n",
    "        n_samples_per_center[i] += 1\n",
    "    for i, (n, std) in enumerate(zip(n_samples_per_center, cluster_std)):\n",
    "        X.append(centers[i] + generator.normal(scale=std, size=(n, n_features)))\n",
    "        y += [i] * n\n",
    "    X = np.concatenate(X)\n",
    "    y = np.array(y)\n",
    "    X, y = shuffle_(X, y, random_state=generator)\n",
    "    \n",
    "    y[np.array([7, 27])] = 0\n",
    "    mask = np.ones(len(X), dtype=np.bool)\n",
    "    mask[np.array([0, 1, 5, 26])] = 0\n",
    "    X, y = X[mask], y[mask]\n",
    "    return X, y\n",
    "\n",
    "def make_wave(n_samples=100):\n",
    "    rnd = np.random.RandomState(42)\n",
    "    x = rnd.uniform(-3, 3, size=n_samples)\n",
    "    y_no_noise = (np.sin(4 * x) + x)\n",
    "    y = (y_no_noise + rnd.normal(size=len(x))) / 2\n",
    "    return x.reshape(-1, 1), y"
   ]
  },
  {
   "cell_type": "markdown",
   "metadata": {},
   "source": [
    "forge データセットの生成"
   ]
  },
  {
   "cell_type": "code",
   "execution_count": 22,
   "metadata": {},
   "outputs": [
    {
     "data": {
      "image/png": "[encoded data removed]",
      "text/plain": [
       "<matplotlib.figure.Figure at 0x10fc25c50>"
      ]
     },
     "metadata": {},
     "output_type": "display_data"
    }
   ],
   "source": [
    "# データセットの生成\n",
    "X, y = make_forge()\n",
    "# データセットをプロット\n",
    "# ここから discrete_scatter\n",
    "import matplotlib as mpl\n",
    "import matplotlib.pyplot as plt\n",
    "from matplotlib.colors import colorConverter\n",
    "ax = plt.gca()\n",
    "unique_y = np.unique(y)\n",
    "markers = ['o', '^', 'v', 'D', 's', '*', 'p', 'h', 'H', '8', '<', '>'] * 10 \n",
    "labels = unique_y\n",
    "current_cycler = mpl.rcParams['axes.prop_cycle']\n",
    "lines = []\n",
    "for i, (yy, cycle) in enumerate(zip(unique_y, current_cycler())):\n",
    "    mask = y == yy\n",
    "    color = cycle['color'] # use color cycle\n",
    "    if np.mean(colorConverter.to_rgb(color)) < .4:\n",
    "        markeredgecolor = \"grey\"\n",
    "    else:\n",
    "        markeredgecolor = \"black\"\n",
    "    lines.append(ax.plot(X[mask, 0], X[mask, 1], markers[i], markersize=10, label=labels[i], alpha=1, c=color,\n",
    "                         markeredgecolor=markeredgecolor)[0])\n",
    "# ここまで discrete_scatter\n",
    "plt.legend([\"Class 0\", \"Class 1\"], loc=4)\n",
    "plt.xlabel(\"First feature\")\n",
    "plt.ylabel(\"Second feature\")\n",
    "plt.show()"
   ]
  },
  {
   "cell_type": "markdown",
   "metadata": {},
   "source": [
    "wave データセットの作成"
   ]
  },
  {
   "cell_type": "code",
   "execution_count": 23,
   "metadata": {},
   "outputs": [
    {
     "data": {
      "image/png": "[encoded data removed]",
      "text/plain": [
       "<matplotlib.figure.Figure at 0x10fd17198>"
      ]
     },
     "metadata": {},
     "output_type": "display_data"
    }
   ],
   "source": [
    "# データセットの生成\n",
    "X, y = make_wave(n_samples=40)\n",
    "# データのプロット\n",
    "plt.plot(X, y, 'o')\n",
    "plt.ylim(-3,3)\n",
    "plt.xlabel(\"Feature\")\n",
    "plt.ylabel(\"Target\")\n",
    "plt.show()"
   ]
  },
  {
   "cell_type": "markdown",
   "metadata": {},
   "source": [
    "cancerデータセット\n",
    "scikit-learnにあるデータを使用"
   ]
  },
  {
   "cell_type": "code",
   "execution_count": 25,
   "metadata": {},
   "outputs": [
    {
     "data": {
      "text/plain": [
       "dict_keys(['data', 'target', 'target_names', 'DESCR', 'feature_names'])"
      ]
     },
     "execution_count": 25,
     "metadata": {},
     "output_type": "execute_result"
    }
   ],
   "source": [
    "from sklearn.datasets import load_breast_cancer\n",
    "cancer = load_breast_cancer()\n",
    "cancer.keys()"
   ]
  },
  {
   "cell_type": "code",
   "execution_count": 26,
   "metadata": {},
   "outputs": [
    {
     "data": {
      "text/plain": [
       "(569, 30)"
      ]
     },
     "execution_count": 26,
     "metadata": {},
     "output_type": "execute_result"
    }
   ],
   "source": [
    "cancer.data.shape"
   ]
  },
  {
   "cell_type": "code",
   "execution_count": 29,
   "metadata": {},
   "outputs": [
    {
     "data": {
      "text/plain": [
       "{'benign': 357, 'malignant': 212}"
      ]
     },
     "execution_count": 29,
     "metadata": {},
     "output_type": "execute_result"
    }
   ],
   "source": [
    "{n: v for n, v in zip(cancer.target_names, np.bincount(cancer.target))}"
   ]
  },
  {
   "cell_type": "code",
   "execution_count": 30,
   "metadata": {},
   "outputs": [
    {
     "data": {
      "text/plain": [
       "array(['mean radius', 'mean texture', 'mean perimeter', 'mean area',\n",
       "       'mean smoothness', 'mean compactness', 'mean concavity',\n",
       "       'mean concave points', 'mean symmetry', 'mean fractal dimension',\n",
       "       'radius error', 'texture error', 'perimeter error', 'area error',\n",
       "       'smoothness error', 'compactness error', 'concavity error',\n",
       "       'concave points error', 'symmetry error', 'fractal dimension error',\n",
       "       'worst radius', 'worst texture', 'worst perimeter', 'worst area',\n",
       "       'worst smoothness', 'worst compactness', 'worst concavity',\n",
       "       'worst concave points', 'worst symmetry', 'worst fractal dimension'],\n",
       "      dtype='<U23')"
      ]
     },
     "execution_count": 30,
     "metadata": {},
     "output_type": "execute_result"
    }
   ],
   "source": [
    "cancer.feature_names"
   ]
  },
  {
   "cell_type": "markdown",
   "metadata": {},
   "source": [
    "boston_housingデータセット\n",
    "こちらのscikit-learnのデータセットを使用"
   ]
  },
  {
   "cell_type": "code",
   "execution_count": 31,
   "metadata": {},
   "outputs": [
    {
     "data": {
      "text/plain": [
       "(506, 13)"
      ]
     },
     "execution_count": 31,
     "metadata": {},
     "output_type": "execute_result"
    }
   ],
   "source": [
    "from sklearn.datasets import load_boston\n",
    "boston = load_boston()\n",
    "boston.data.shape"
   ]
  },
  {
   "cell_type": "code",
   "execution_count": 35,
   "metadata": {},
   "outputs": [
    {
     "data": {
      "text/plain": [
       "(506, 104)"
      ]
     },
     "execution_count": 35,
     "metadata": {},
     "output_type": "execute_result"
    }
   ],
   "source": [
    "# load_extended_boston() 関数の内容\n",
    "from sklearn.preprocessing import MinMaxScaler,  PolynomialFeatures\n",
    "X = boston.data\n",
    "X = MinMaxScaler().fit_transform(boston.data)\n",
    "X = PolynomialFeatures(degree=2, include_bias=False).fit_transform(X)\n",
    "X.shape"
   ]
  },
  {
   "cell_type": "code",
   "execution_count": null,
   "metadata": {},
   "outputs": [],
   "source": []
  }
 ],
 "metadata": {
  "kernelspec": {
   "display_name": "Python 3",
   "language": "python",
   "name": "python3"
  },
  "language_info": {
   "codemirror_mode": {
    "name": "ipython",
    "version": 3
   },
   "file_extension": ".py",
   "mimetype": "text/x-python",
   "name": "python",
   "nbconvert_exporter": "python",
   "pygments_lexer": "ipython3",
   "version": "3.6.0"
  }
 },
 "nbformat": 4,
 "nbformat_minor": 2
}
