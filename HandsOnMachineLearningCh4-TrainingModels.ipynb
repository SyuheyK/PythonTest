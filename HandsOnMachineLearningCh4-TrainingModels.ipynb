{
 "cells": [
  {
   "cell_type": "markdown",
   "metadata": {},
   "source": [
    "ものがどう動くかよく理解しておくと，どんなモデルを使えばよいかの判断の根拠に使える他にも以下のようなメリットある．\n",
    "1. 使うべき正しい訓練アルゴリズム\n",
    "2. 良いハイパパラメータの設定方法\n",
    "3. デバッグ\n",
    "4. 誤差解析の効率化\n",
    "5. Neural Networkを理解しやくすなる．\n",
    "\n",
    "ここでは線形回帰モデルから始めて，モデルを訓練する方法を以下の2種類で比較しながらみていきましょう．\n",
    "- 解析的に解く方法\n",
    "- 逐次的最適化法"
   ]
  },
  {
   "cell_type": "markdown",
   "metadata": {},
   "source": [
    "# Liner Regression\n",
    "\n",
    "Equation 4-1 線形回帰モデルで予測\n",
    "$$\n",
    "\\hat{y}=\\theta_0 + \\theta_1x_1 +\\theta_2x_2 + \\cdot + \\theta_nx_n\n",
    "$$\n",
    "ここで\n",
    "- $\\hat{y}$は被説明変数\n",
    "-$n$は変数の数\n",
    "- $x_i$は$i$番目の変数\n",
    "- $\\theta_i$はモデルパラメータ\n",
    "- $\\theta_0$はバイアスパラメータ\n",
    "- $\\theta_j,j\\ge 1$は変数$j$に対するウェイト\n",
    "\n",
    "Equation 4-2 線形回帰モデルで予測(ベクトルで表現)\n",
    "$$\n",
    "\\hat{y}=h_{\\theta}(\\mathbf{x})=\\theta^\\top\\times\\mathbf{x}\n",
    "$$\n",
    "ここで\n",
    "- $\\theta$はモデルのパラメータベクトルで，バイアスパラメータ$\\theta_0$を含む．\n",
    "- $\\mathbf{x}$は変数ベクトルで，$x_0$は常に$1$"
   ]
  },
  {
   "cell_type": "markdown",
   "metadata": {},
   "source": []
  }
 ],
 "metadata": {
  "kernelspec": {
   "display_name": "Python 3",
   "language": "python",
   "name": "python3"
  },
  "language_info": {
   "codemirror_mode": {
    "name": "ipython",
    "version": 3
   },
   "file_extension": ".py",
   "mimetype": "text/x-python",
   "name": "python",
   "nbconvert_exporter": "python",
   "pygments_lexer": "ipython3",
   "version": "3.6.0"
  }
 },
 "nbformat": 4,
 "nbformat_minor": 2
}
