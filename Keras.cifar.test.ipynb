{
 "cells": [
  {
   "cell_type": "code",
   "execution_count": 1,
   "metadata": {},
   "outputs": [
    {
     "name": "stderr",
     "output_type": "stream",
     "text": [
      "/Users/syuheyk/.pyenv/versions/anaconda3-4.3.1/envs/py3.6.0/lib/python3.6/importlib/_bootstrap.py:205: RuntimeWarning: compiletime version 3.5 of module 'tensorflow.python.framework.fast_tensor_util' does not match runtime version 3.6\n",
      "  return f(*args, **kwds)\n"
     ]
    }
   ],
   "source": [
    "from tensorflow.python.keras.datasets import cifar10\n",
    "(x_train, y_train), (x_test, y_test) = cifar10.load_data()"
   ]
  },
  {
   "cell_type": "code",
   "execution_count": 2,
   "metadata": {},
   "outputs": [
    {
     "name": "stdout",
     "output_type": "stream",
     "text": [
      "x_train.shape: (50000, 32, 32, 3)\n",
      "y_train.shape: (50000, 1)\n",
      "x_test.shape: (10000, 32, 32, 3)\n",
      "y_test.shape: (10000, 1)\n"
     ]
    }
   ],
   "source": [
    "print(\"x_train.shape:\",x_train.shape)\n",
    "print(\"y_train.shape:\",y_train.shape)\n",
    "print(\"x_test.shape:\",x_test.shape)\n",
    "print(\"y_test.shape:\",y_test.shape)"
   ]
  },
  {
   "cell_type": "code",
   "execution_count": 3,
   "metadata": {},
   "outputs": [],
   "source": [
    "from tensorflow.python.keras.utils import to_categorical\n",
    "\n",
    "# 特徴量の正規化\n",
    "x_train = x_train / 255.\n",
    "x_test = x_test / 255.\n",
    "\n",
    "# クラスラベルの1-hotベクトル化\n",
    "y_train = to_categorical(y_train, 10)\n",
    "y_test = to_categorical(y_test, 10)"
   ]
  },
  {
   "cell_type": "code",
   "execution_count": 4,
   "metadata": {},
   "outputs": [
    {
     "data": {
      "text/plain": [
       "(None, 8, 8, 64)"
      ]
     },
     "execution_count": 4,
     "metadata": {},
     "output_type": "execute_result"
    }
   ],
   "source": [
    "from tensorflow.python.keras.models import Sequential\n",
    "model = Sequential()\n",
    "\n",
    "from tensorflow.python.keras.layers import Conv2D\n",
    "model.add(\n",
    "    Conv2D(\n",
    "        filters=32,\n",
    "        input_shape=(32, 32, 3),\n",
    "        kernel_size=(3, 3),\n",
    "        strides=(1, 1),\n",
    "        padding='same',\n",
    "        activation='relu'\n",
    "    )\n",
    ")\n",
    "model.add(\n",
    "    Conv2D(\n",
    "        filters=32,\n",
    "        kernel_size=(3, 3),\n",
    "        strides=(1, 1),\n",
    "        padding='same',\n",
    "        activation='relu'\n",
    "    )\n",
    ")\n",
    "\n",
    "# プーリング層の追加\n",
    "from tensorflow.python.keras.layers import MaxPooling2D\n",
    "model.add(MaxPooling2D(pool_size=(2,2)))\n",
    "\n",
    "# ドロップアウトレイヤーの追加\n",
    "from tensorflow.python.keras.layers import Dropout\n",
    "model.add(Dropout(0.25))\n",
    "\n",
    "# 畳み込み層とプーリング層の追加\n",
    "model.add(\n",
    "    Conv2D(\n",
    "        filters=64,\n",
    "        kernel_size=(3, 3),\n",
    "        strides=(1, 1),\n",
    "        padding='same',\n",
    "        activation='relu'\n",
    "    )\n",
    ")\n",
    "model.add(\n",
    "    Conv2D(\n",
    "        filters=64,\n",
    "        kernel_size=(3, 3),\n",
    "        strides=(1, 1),\n",
    "        padding='same',\n",
    "        activation='relu'\n",
    "    )\n",
    ")\n",
    "model.add(MaxPooling2D(pool_size=(2,2)))\n",
    "model.add(Dropout(0.25))\n",
    "model.output_shape"
   ]
  },
  {
   "cell_type": "code",
   "execution_count": 5,
   "metadata": {},
   "outputs": [
    {
     "data": {
      "text/plain": [
       "(None, 4096)"
      ]
     },
     "execution_count": 5,
     "metadata": {},
     "output_type": "execute_result"
    }
   ],
   "source": [
    "from tensorflow.python.keras.layers import Flatten\n",
    "model.add(Flatten())\n",
    "model.output_shape"
   ]
  },
  {
   "cell_type": "code",
   "execution_count": 8,
   "metadata": {},
   "outputs": [],
   "source": [
    "from tensorflow.python.keras.layers import Dense\n",
    "\n",
    "model.add(Dense(units=512, activation='relu'))\n",
    "model.add(Dropout(0.5))\n",
    "model.add(Dense(units=10, activation='softmax'))"
   ]
  },
  {
   "cell_type": "code",
   "execution_count": 9,
   "metadata": {},
   "outputs": [
    {
     "name": "stdout",
     "output_type": "stream",
     "text": [
      "Train on 40000 samples, validate on 10000 samples\n",
      "Epoch 1/20\n",
      "40000/40000 [==============================] - 360s - loss: 1.8809 - acc: 0.2671 - val_loss: 1.5014 - val_acc: 0.4314\n",
      "Epoch 2/20\n",
      "40000/40000 [==============================] - 371s - loss: 1.4188 - acc: 0.4832 - val_loss: 1.2418 - val_acc: 0.5504\n",
      "Epoch 3/20\n",
      "40000/40000 [==============================] - 373s - loss: 1.2050 - acc: 0.5711 - val_loss: 1.1005 - val_acc: 0.6123\n",
      "Epoch 4/20\n",
      "40000/40000 [==============================] - 360s - loss: 1.0904 - acc: 0.6172 - val_loss: 0.9856 - val_acc: 0.6599\n",
      "Epoch 5/20\n",
      "40000/40000 [==============================] - 356s - loss: 1.0009 - acc: 0.6499 - val_loss: 0.9618 - val_acc: 0.6742\n",
      "Epoch 6/20\n",
      "40000/40000 [==============================] - 345s - loss: 0.9318 - acc: 0.6761 - val_loss: 0.8733 - val_acc: 0.6994\n",
      "Epoch 7/20\n",
      "40000/40000 [==============================] - 328s - loss: 0.8752 - acc: 0.6969 - val_loss: 0.8197 - val_acc: 0.7170\n",
      "Epoch 8/20\n",
      "40000/40000 [==============================] - 328s - loss: 0.8241 - acc: 0.7150 - val_loss: 0.8163 - val_acc: 0.7196\n",
      "Epoch 9/20\n",
      "40000/40000 [==============================] - 327s - loss: 0.7829 - acc: 0.7311 - val_loss: 0.8024 - val_acc: 0.7271\n",
      "Epoch 10/20\n",
      "40000/40000 [==============================] - 329s - loss: 0.7519 - acc: 0.7413 - val_loss: 0.7573 - val_acc: 0.7457\n",
      "Epoch 11/20\n",
      "40000/40000 [==============================] - 327s - loss: 0.7191 - acc: 0.7508 - val_loss: 0.7599 - val_acc: 0.7432\n",
      "Epoch 12/20\n",
      "40000/40000 [==============================] - 328s - loss: 0.6892 - acc: 0.7641 - val_loss: 0.7372 - val_acc: 0.7531\n",
      "Epoch 13/20\n",
      "40000/40000 [==============================] - 327s - loss: 0.6705 - acc: 0.7698 - val_loss: 0.7665 - val_acc: 0.7434\n",
      "Epoch 14/20\n",
      "40000/40000 [==============================] - 328s - loss: 0.6511 - acc: 0.7743 - val_loss: 0.7109 - val_acc: 0.7587\n",
      "Epoch 15/20\n",
      "40000/40000 [==============================] - 334s - loss: 0.6301 - acc: 0.7846 - val_loss: 0.7266 - val_acc: 0.7563\n",
      "Epoch 16/20\n",
      "40000/40000 [==============================] - 331s - loss: 0.6147 - acc: 0.7911 - val_loss: 0.7747 - val_acc: 0.7417\n",
      "Epoch 17/20\n",
      "40000/40000 [==============================] - 366s - loss: 0.5951 - acc: 0.7960 - val_loss: 0.7856 - val_acc: 0.7400\n",
      "Epoch 18/20\n",
      "40000/40000 [==============================] - 357s - loss: 0.5946 - acc: 0.7998 - val_loss: 0.7253 - val_acc: 0.7588\n",
      "Epoch 19/20\n",
      "40000/40000 [==============================] - 378s - loss: 0.5679 - acc: 0.8064 - val_loss: 0.7245 - val_acc: 0.7622\n",
      "Epoch 20/20\n",
      "40000/40000 [==============================] - 433s - loss: 0.5545 - acc: 0.8121 - val_loss: 0.7370 - val_acc: 0.7559\n"
     ]
    }
   ],
   "source": [
    "from tensorflow.python.keras.callbacks import TensorBoard\n",
    "model.compile(\n",
    "    optimizer='adam',\n",
    "    loss='categorical_crossentropy',\n",
    "    metrics=['accuracy']\n",
    ")\n",
    "tsb=TensorBoard(log_dir='./logs')\n",
    "history_adam=model.fit(\n",
    "    x_train,\n",
    "    y_train,\n",
    "    batch_size=32,\n",
    "    epochs=20,\n",
    "    validation_split=0.2,\n",
    "    callbacks=[tsb]\n",
    ")"
   ]
  },
  {
   "cell_type": "code",
   "execution_count": null,
   "metadata": {},
   "outputs": [],
   "source": []
  }
 ],
 "metadata": {
  "kernelspec": {
   "display_name": "Python 3",
   "language": "python",
   "name": "python3"
  },
  "language_info": {
   "codemirror_mode": {
    "name": "ipython",
    "version": 3
   },
   "file_extension": ".py",
   "mimetype": "text/x-python",
   "name": "python",
   "nbconvert_exporter": "python",
   "pygments_lexer": "ipython3",
   "version": "3.6.0"
  }
 },
 "nbformat": 4,
 "nbformat_minor": 2
}
